{
 "cells": [
  {
   "cell_type": "markdown",
   "id": "76c3e5a5",
   "metadata": {},
   "source": [
    "# Libraries"
   ]
  },
  {
   "cell_type": "code",
   "execution_count": 1,
   "id": "6960136f",
   "metadata": {},
   "outputs": [],
   "source": [
    "import pandas as pd\n",
    "from scipy import stats\n",
    "import warnings\n",
    "import numpy as np\n",
    "import seaborn as sns\n",
    "import matplotlib.pyplot as plt\n",
    "import string\n",
    "from sklearn.preprocessing import StandardScaler\n",
    "from sklearn.model_selection import train_test_split\n",
    "from sklearn.linear_model import LinearRegression\n",
    "from sklearn import metrics\n",
    "from sklearn.preprocessing import PowerTransformer\n",
    "from sklearn.linear_model import Ridge\n",
    "import tensorflow as tf\n",
    "from tensorflow import keras\n",
    "from tensorflow.keras import layers\n",
    "from keras.optimizers import Adam\n",
    "from keras.models import Sequential\n",
    "from keras.layers import Dense, Activation\n",
    "warnings.filterwarnings(\"ignore\")"
   ]
  },
  {
   "cell_type": "markdown",
   "id": "b3399d08",
   "metadata": {},
   "source": [
    "# Data Import"
   ]
  },
  {
   "cell_type": "code",
   "execution_count": 2,
   "id": "09d16f16",
   "metadata": {
    "scrolled": false
   },
   "outputs": [
    {
     "name": "stderr",
     "output_type": "stream",
     "text": [
      "b'Skipping line 3350: expected 12 fields, saw 13\\nSkipping line 4704: expected 12 fields, saw 13\\nSkipping line 5879: expected 12 fields, saw 13\\nSkipping line 8981: expected 12 fields, saw 13\\n'\n"
     ]
    }
   ],
   "source": [
    "df = pd.read_csv('books.csv', error_bad_lines = False)"
   ]
  },
  {
   "cell_type": "code",
   "execution_count": 3,
   "id": "7d8514b7",
   "metadata": {
    "scrolled": false
   },
   "outputs": [
    {
     "data": {
      "text/html": [
       "<div>\n",
       "<style scoped>\n",
       "    .dataframe tbody tr th:only-of-type {\n",
       "        vertical-align: middle;\n",
       "    }\n",
       "\n",
       "    .dataframe tbody tr th {\n",
       "        vertical-align: top;\n",
       "    }\n",
       "\n",
       "    .dataframe thead th {\n",
       "        text-align: right;\n",
       "    }\n",
       "</style>\n",
       "<table border=\"1\" class=\"dataframe\">\n",
       "  <thead>\n",
       "    <tr style=\"text-align: right;\">\n",
       "      <th></th>\n",
       "      <th>bookID</th>\n",
       "      <th>title</th>\n",
       "      <th>authors</th>\n",
       "      <th>average_rating</th>\n",
       "      <th>isbn</th>\n",
       "      <th>isbn13</th>\n",
       "      <th>language_code</th>\n",
       "      <th>num_pages</th>\n",
       "      <th>ratings_count</th>\n",
       "      <th>text_reviews_count</th>\n",
       "      <th>publication_date</th>\n",
       "      <th>publisher</th>\n",
       "    </tr>\n",
       "  </thead>\n",
       "  <tbody>\n",
       "    <tr>\n",
       "      <th>0</th>\n",
       "      <td>1</td>\n",
       "      <td>Harry Potter and the Half-Blood Prince (Harry ...</td>\n",
       "      <td>J.K. Rowling/Mary GrandPré</td>\n",
       "      <td>4.57</td>\n",
       "      <td>0439785960</td>\n",
       "      <td>9780439785969</td>\n",
       "      <td>eng</td>\n",
       "      <td>652</td>\n",
       "      <td>2095690</td>\n",
       "      <td>27591</td>\n",
       "      <td>9/16/2006</td>\n",
       "      <td>Scholastic Inc.</td>\n",
       "    </tr>\n",
       "    <tr>\n",
       "      <th>1</th>\n",
       "      <td>2</td>\n",
       "      <td>Harry Potter and the Order of the Phoenix (Har...</td>\n",
       "      <td>J.K. Rowling/Mary GrandPré</td>\n",
       "      <td>4.49</td>\n",
       "      <td>0439358078</td>\n",
       "      <td>9780439358071</td>\n",
       "      <td>eng</td>\n",
       "      <td>870</td>\n",
       "      <td>2153167</td>\n",
       "      <td>29221</td>\n",
       "      <td>9/1/2004</td>\n",
       "      <td>Scholastic Inc.</td>\n",
       "    </tr>\n",
       "    <tr>\n",
       "      <th>2</th>\n",
       "      <td>4</td>\n",
       "      <td>Harry Potter and the Chamber of Secrets (Harry...</td>\n",
       "      <td>J.K. Rowling</td>\n",
       "      <td>4.42</td>\n",
       "      <td>0439554896</td>\n",
       "      <td>9780439554893</td>\n",
       "      <td>eng</td>\n",
       "      <td>352</td>\n",
       "      <td>6333</td>\n",
       "      <td>244</td>\n",
       "      <td>11/1/2003</td>\n",
       "      <td>Scholastic</td>\n",
       "    </tr>\n",
       "    <tr>\n",
       "      <th>3</th>\n",
       "      <td>5</td>\n",
       "      <td>Harry Potter and the Prisoner of Azkaban (Harr...</td>\n",
       "      <td>J.K. Rowling/Mary GrandPré</td>\n",
       "      <td>4.56</td>\n",
       "      <td>043965548X</td>\n",
       "      <td>9780439655484</td>\n",
       "      <td>eng</td>\n",
       "      <td>435</td>\n",
       "      <td>2339585</td>\n",
       "      <td>36325</td>\n",
       "      <td>5/1/2004</td>\n",
       "      <td>Scholastic Inc.</td>\n",
       "    </tr>\n",
       "    <tr>\n",
       "      <th>4</th>\n",
       "      <td>8</td>\n",
       "      <td>Harry Potter Boxed Set  Books 1-5 (Harry Potte...</td>\n",
       "      <td>J.K. Rowling/Mary GrandPré</td>\n",
       "      <td>4.78</td>\n",
       "      <td>0439682584</td>\n",
       "      <td>9780439682589</td>\n",
       "      <td>eng</td>\n",
       "      <td>2690</td>\n",
       "      <td>41428</td>\n",
       "      <td>164</td>\n",
       "      <td>9/13/2004</td>\n",
       "      <td>Scholastic</td>\n",
       "    </tr>\n",
       "  </tbody>\n",
       "</table>\n",
       "</div>"
      ],
      "text/plain": [
       "   bookID                                              title  \\\n",
       "0       1  Harry Potter and the Half-Blood Prince (Harry ...   \n",
       "1       2  Harry Potter and the Order of the Phoenix (Har...   \n",
       "2       4  Harry Potter and the Chamber of Secrets (Harry...   \n",
       "3       5  Harry Potter and the Prisoner of Azkaban (Harr...   \n",
       "4       8  Harry Potter Boxed Set  Books 1-5 (Harry Potte...   \n",
       "\n",
       "                      authors  average_rating        isbn         isbn13  \\\n",
       "0  J.K. Rowling/Mary GrandPré            4.57  0439785960  9780439785969   \n",
       "1  J.K. Rowling/Mary GrandPré            4.49  0439358078  9780439358071   \n",
       "2                J.K. Rowling            4.42  0439554896  9780439554893   \n",
       "3  J.K. Rowling/Mary GrandPré            4.56  043965548X  9780439655484   \n",
       "4  J.K. Rowling/Mary GrandPré            4.78  0439682584  9780439682589   \n",
       "\n",
       "  language_code    num_pages  ratings_count  text_reviews_count  \\\n",
       "0           eng          652        2095690               27591   \n",
       "1           eng          870        2153167               29221   \n",
       "2           eng          352           6333                 244   \n",
       "3           eng          435        2339585               36325   \n",
       "4           eng         2690          41428                 164   \n",
       "\n",
       "  publication_date        publisher  \n",
       "0        9/16/2006  Scholastic Inc.  \n",
       "1         9/1/2004  Scholastic Inc.  \n",
       "2        11/1/2003       Scholastic  \n",
       "3         5/1/2004  Scholastic Inc.  \n",
       "4        9/13/2004       Scholastic  "
      ]
     },
     "execution_count": 3,
     "metadata": {},
     "output_type": "execute_result"
    }
   ],
   "source": [
    "df.head()"
   ]
  },
  {
   "cell_type": "markdown",
   "id": "0e64186f",
   "metadata": {},
   "source": [
    "## Getting to know the data"
   ]
  },
  {
   "cell_type": "code",
   "execution_count": 4,
   "id": "374e20d1",
   "metadata": {},
   "outputs": [
    {
     "name": "stdout",
     "output_type": "stream",
     "text": [
      "(11123, 12)\n"
     ]
    }
   ],
   "source": [
    "print(df.shape)"
   ]
  },
  {
   "cell_type": "code",
   "execution_count": 5,
   "id": "12c5d4a3",
   "metadata": {},
   "outputs": [
    {
     "data": {
      "text/plain": [
       "['bookID',\n",
       " 'title',\n",
       " 'authors',\n",
       " 'average_rating',\n",
       " 'isbn',\n",
       " 'isbn13',\n",
       " 'language_code',\n",
       " '  num_pages',\n",
       " 'ratings_count',\n",
       " 'text_reviews_count',\n",
       " 'publication_date',\n",
       " 'publisher']"
      ]
     },
     "execution_count": 5,
     "metadata": {},
     "output_type": "execute_result"
    }
   ],
   "source": [
    "# List of columns\n",
    "list(df.columns)"
   ]
  },
  {
   "cell_type": "markdown",
   "id": "872c451a",
   "metadata": {},
   "source": [
    "# Data Cleaning"
   ]
  },
  {
   "cell_type": "markdown",
   "id": "fa92a4fd",
   "metadata": {},
   "source": [
    "#### Looking at the Data set, I see that some cleaning will be necessary:\n",
    "##### 1- Remove the space before the num_pages column.\n",
    "#### 2- Use the bookID as the index.\n",
    "#### 3- Fix authors name.\n",
    "#### 4- Check for any null values.\n",
    "#### 5- Check for any duplicates.\n",
    "#### 6- Check for potential outliers."
   ]
  },
  {
   "cell_type": "code",
   "execution_count": 6,
   "id": "c8f5c805",
   "metadata": {},
   "outputs": [],
   "source": [
    "df.rename(columns={'  num_pages':'num_pages'}, inplace=True)"
   ]
  },
  {
   "cell_type": "code",
   "execution_count": 7,
   "id": "24ad2583",
   "metadata": {},
   "outputs": [
    {
     "data": {
      "text/plain": [
       "['bookID',\n",
       " 'title',\n",
       " 'authors',\n",
       " 'average_rating',\n",
       " 'isbn',\n",
       " 'isbn13',\n",
       " 'language_code',\n",
       " 'num_pages',\n",
       " 'ratings_count',\n",
       " 'text_reviews_count',\n",
       " 'publication_date',\n",
       " 'publisher']"
      ]
     },
     "execution_count": 7,
     "metadata": {},
     "output_type": "execute_result"
    }
   ],
   "source": [
    "# Using the df.rename function allowed us to rename the column num_pages successfully.\n",
    "list(df.columns)"
   ]
  },
  {
   "cell_type": "code",
   "execution_count": 8,
   "id": "3db2768f",
   "metadata": {},
   "outputs": [],
   "source": [
    "# We can explicitly set a column as an index \n",
    "df.index = df['bookID']"
   ]
  },
  {
   "cell_type": "markdown",
   "id": "b5124365",
   "metadata": {},
   "source": [
    "## Created a new column AUTHOR and Illustrator"
   ]
  },
  {
   "cell_type": "code",
   "execution_count": 9,
   "id": "c16c44d4",
   "metadata": {},
   "outputs": [
    {
     "data": {
      "text/html": [
       "<div>\n",
       "<style scoped>\n",
       "    .dataframe tbody tr th:only-of-type {\n",
       "        vertical-align: middle;\n",
       "    }\n",
       "\n",
       "    .dataframe tbody tr th {\n",
       "        vertical-align: top;\n",
       "    }\n",
       "\n",
       "    .dataframe thead th {\n",
       "        text-align: right;\n",
       "    }\n",
       "</style>\n",
       "<table border=\"1\" class=\"dataframe\">\n",
       "  <thead>\n",
       "    <tr style=\"text-align: right;\">\n",
       "      <th></th>\n",
       "      <th>bookID</th>\n",
       "      <th>title</th>\n",
       "      <th>authors</th>\n",
       "      <th>average_rating</th>\n",
       "      <th>isbn</th>\n",
       "      <th>isbn13</th>\n",
       "      <th>language_code</th>\n",
       "      <th>num_pages</th>\n",
       "      <th>ratings_count</th>\n",
       "      <th>text_reviews_count</th>\n",
       "      <th>publication_date</th>\n",
       "      <th>publisher</th>\n",
       "      <th>Author</th>\n",
       "      <th>Illustrator</th>\n",
       "    </tr>\n",
       "    <tr>\n",
       "      <th>bookID</th>\n",
       "      <th></th>\n",
       "      <th></th>\n",
       "      <th></th>\n",
       "      <th></th>\n",
       "      <th></th>\n",
       "      <th></th>\n",
       "      <th></th>\n",
       "      <th></th>\n",
       "      <th></th>\n",
       "      <th></th>\n",
       "      <th></th>\n",
       "      <th></th>\n",
       "      <th></th>\n",
       "      <th></th>\n",
       "    </tr>\n",
       "  </thead>\n",
       "  <tbody>\n",
       "    <tr>\n",
       "      <th>1</th>\n",
       "      <td>1</td>\n",
       "      <td>Harry Potter and the Half-Blood Prince (Harry ...</td>\n",
       "      <td>J.K. Rowling/Mary GrandPré</td>\n",
       "      <td>4.57</td>\n",
       "      <td>0439785960</td>\n",
       "      <td>9780439785969</td>\n",
       "      <td>eng</td>\n",
       "      <td>652</td>\n",
       "      <td>2095690</td>\n",
       "      <td>27591</td>\n",
       "      <td>9/16/2006</td>\n",
       "      <td>Scholastic Inc.</td>\n",
       "      <td>J.K. Rowling</td>\n",
       "      <td>Mary GrandPré</td>\n",
       "    </tr>\n",
       "    <tr>\n",
       "      <th>2</th>\n",
       "      <td>2</td>\n",
       "      <td>Harry Potter and the Order of the Phoenix (Har...</td>\n",
       "      <td>J.K. Rowling/Mary GrandPré</td>\n",
       "      <td>4.49</td>\n",
       "      <td>0439358078</td>\n",
       "      <td>9780439358071</td>\n",
       "      <td>eng</td>\n",
       "      <td>870</td>\n",
       "      <td>2153167</td>\n",
       "      <td>29221</td>\n",
       "      <td>9/1/2004</td>\n",
       "      <td>Scholastic Inc.</td>\n",
       "      <td>J.K. Rowling</td>\n",
       "      <td>Mary GrandPré</td>\n",
       "    </tr>\n",
       "    <tr>\n",
       "      <th>4</th>\n",
       "      <td>4</td>\n",
       "      <td>Harry Potter and the Chamber of Secrets (Harry...</td>\n",
       "      <td>J.K. Rowling</td>\n",
       "      <td>4.42</td>\n",
       "      <td>0439554896</td>\n",
       "      <td>9780439554893</td>\n",
       "      <td>eng</td>\n",
       "      <td>352</td>\n",
       "      <td>6333</td>\n",
       "      <td>244</td>\n",
       "      <td>11/1/2003</td>\n",
       "      <td>Scholastic</td>\n",
       "      <td>J.K. Rowling</td>\n",
       "      <td></td>\n",
       "    </tr>\n",
       "    <tr>\n",
       "      <th>5</th>\n",
       "      <td>5</td>\n",
       "      <td>Harry Potter and the Prisoner of Azkaban (Harr...</td>\n",
       "      <td>J.K. Rowling/Mary GrandPré</td>\n",
       "      <td>4.56</td>\n",
       "      <td>043965548X</td>\n",
       "      <td>9780439655484</td>\n",
       "      <td>eng</td>\n",
       "      <td>435</td>\n",
       "      <td>2339585</td>\n",
       "      <td>36325</td>\n",
       "      <td>5/1/2004</td>\n",
       "      <td>Scholastic Inc.</td>\n",
       "      <td>J.K. Rowling</td>\n",
       "      <td>Mary GrandPré</td>\n",
       "    </tr>\n",
       "    <tr>\n",
       "      <th>8</th>\n",
       "      <td>8</td>\n",
       "      <td>Harry Potter Boxed Set  Books 1-5 (Harry Potte...</td>\n",
       "      <td>J.K. Rowling/Mary GrandPré</td>\n",
       "      <td>4.78</td>\n",
       "      <td>0439682584</td>\n",
       "      <td>9780439682589</td>\n",
       "      <td>eng</td>\n",
       "      <td>2690</td>\n",
       "      <td>41428</td>\n",
       "      <td>164</td>\n",
       "      <td>9/13/2004</td>\n",
       "      <td>Scholastic</td>\n",
       "      <td>J.K. Rowling</td>\n",
       "      <td>Mary GrandPré</td>\n",
       "    </tr>\n",
       "    <tr>\n",
       "      <th>...</th>\n",
       "      <td>...</td>\n",
       "      <td>...</td>\n",
       "      <td>...</td>\n",
       "      <td>...</td>\n",
       "      <td>...</td>\n",
       "      <td>...</td>\n",
       "      <td>...</td>\n",
       "      <td>...</td>\n",
       "      <td>...</td>\n",
       "      <td>...</td>\n",
       "      <td>...</td>\n",
       "      <td>...</td>\n",
       "      <td>...</td>\n",
       "      <td>...</td>\n",
       "    </tr>\n",
       "    <tr>\n",
       "      <th>45631</th>\n",
       "      <td>45631</td>\n",
       "      <td>Expelled from Eden: A William T. Vollmann Reader</td>\n",
       "      <td>William T. Vollmann/Larry McCaffery/Michael He...</td>\n",
       "      <td>4.06</td>\n",
       "      <td>1560254416</td>\n",
       "      <td>9781560254416</td>\n",
       "      <td>eng</td>\n",
       "      <td>512</td>\n",
       "      <td>156</td>\n",
       "      <td>20</td>\n",
       "      <td>12/21/2004</td>\n",
       "      <td>Da Capo Press</td>\n",
       "      <td>William T. Vollmann</td>\n",
       "      <td>Larry McCaffery</td>\n",
       "    </tr>\n",
       "    <tr>\n",
       "      <th>45633</th>\n",
       "      <td>45633</td>\n",
       "      <td>You Bright and Risen Angels</td>\n",
       "      <td>William T. Vollmann</td>\n",
       "      <td>4.08</td>\n",
       "      <td>0140110879</td>\n",
       "      <td>9780140110876</td>\n",
       "      <td>eng</td>\n",
       "      <td>635</td>\n",
       "      <td>783</td>\n",
       "      <td>56</td>\n",
       "      <td>12/1/1988</td>\n",
       "      <td>Penguin Books</td>\n",
       "      <td>William T. Vollmann</td>\n",
       "      <td></td>\n",
       "    </tr>\n",
       "    <tr>\n",
       "      <th>45634</th>\n",
       "      <td>45634</td>\n",
       "      <td>The Ice-Shirt (Seven Dreams #1)</td>\n",
       "      <td>William T. Vollmann</td>\n",
       "      <td>3.96</td>\n",
       "      <td>0140131965</td>\n",
       "      <td>9780140131963</td>\n",
       "      <td>eng</td>\n",
       "      <td>415</td>\n",
       "      <td>820</td>\n",
       "      <td>95</td>\n",
       "      <td>8/1/1993</td>\n",
       "      <td>Penguin Books</td>\n",
       "      <td>William T. Vollmann</td>\n",
       "      <td></td>\n",
       "    </tr>\n",
       "    <tr>\n",
       "      <th>45639</th>\n",
       "      <td>45639</td>\n",
       "      <td>Poor People</td>\n",
       "      <td>William T. Vollmann</td>\n",
       "      <td>3.72</td>\n",
       "      <td>0060878827</td>\n",
       "      <td>9780060878825</td>\n",
       "      <td>eng</td>\n",
       "      <td>434</td>\n",
       "      <td>769</td>\n",
       "      <td>139</td>\n",
       "      <td>2/27/2007</td>\n",
       "      <td>Ecco</td>\n",
       "      <td>William T. Vollmann</td>\n",
       "      <td></td>\n",
       "    </tr>\n",
       "    <tr>\n",
       "      <th>45641</th>\n",
       "      <td>45641</td>\n",
       "      <td>Las aventuras de Tom Sawyer</td>\n",
       "      <td>Mark Twain</td>\n",
       "      <td>3.91</td>\n",
       "      <td>8497646983</td>\n",
       "      <td>9788497646987</td>\n",
       "      <td>spa</td>\n",
       "      <td>272</td>\n",
       "      <td>113</td>\n",
       "      <td>12</td>\n",
       "      <td>5/28/2006</td>\n",
       "      <td>Edimat Libros</td>\n",
       "      <td>Mark Twain</td>\n",
       "      <td></td>\n",
       "    </tr>\n",
       "  </tbody>\n",
       "</table>\n",
       "<p>11123 rows × 14 columns</p>\n",
       "</div>"
      ],
      "text/plain": [
       "        bookID                                              title  \\\n",
       "bookID                                                              \n",
       "1            1  Harry Potter and the Half-Blood Prince (Harry ...   \n",
       "2            2  Harry Potter and the Order of the Phoenix (Har...   \n",
       "4            4  Harry Potter and the Chamber of Secrets (Harry...   \n",
       "5            5  Harry Potter and the Prisoner of Azkaban (Harr...   \n",
       "8            8  Harry Potter Boxed Set  Books 1-5 (Harry Potte...   \n",
       "...        ...                                                ...   \n",
       "45631    45631   Expelled from Eden: A William T. Vollmann Reader   \n",
       "45633    45633                        You Bright and Risen Angels   \n",
       "45634    45634                    The Ice-Shirt (Seven Dreams #1)   \n",
       "45639    45639                                        Poor People   \n",
       "45641    45641                        Las aventuras de Tom Sawyer   \n",
       "\n",
       "                                                  authors  average_rating  \\\n",
       "bookID                                                                      \n",
       "1                              J.K. Rowling/Mary GrandPré            4.57   \n",
       "2                              J.K. Rowling/Mary GrandPré            4.49   \n",
       "4                                            J.K. Rowling            4.42   \n",
       "5                              J.K. Rowling/Mary GrandPré            4.56   \n",
       "8                              J.K. Rowling/Mary GrandPré            4.78   \n",
       "...                                                   ...             ...   \n",
       "45631   William T. Vollmann/Larry McCaffery/Michael He...            4.06   \n",
       "45633                                 William T. Vollmann            4.08   \n",
       "45634                                 William T. Vollmann            3.96   \n",
       "45639                                 William T. Vollmann            3.72   \n",
       "45641                                          Mark Twain            3.91   \n",
       "\n",
       "              isbn         isbn13 language_code  num_pages  ratings_count  \\\n",
       "bookID                                                                      \n",
       "1       0439785960  9780439785969           eng        652        2095690   \n",
       "2       0439358078  9780439358071           eng        870        2153167   \n",
       "4       0439554896  9780439554893           eng        352           6333   \n",
       "5       043965548X  9780439655484           eng        435        2339585   \n",
       "8       0439682584  9780439682589           eng       2690          41428   \n",
       "...            ...            ...           ...        ...            ...   \n",
       "45631   1560254416  9781560254416           eng        512            156   \n",
       "45633   0140110879  9780140110876           eng        635            783   \n",
       "45634   0140131965  9780140131963           eng        415            820   \n",
       "45639   0060878827  9780060878825           eng        434            769   \n",
       "45641   8497646983  9788497646987           spa        272            113   \n",
       "\n",
       "        text_reviews_count publication_date        publisher  \\\n",
       "bookID                                                         \n",
       "1                    27591        9/16/2006  Scholastic Inc.   \n",
       "2                    29221         9/1/2004  Scholastic Inc.   \n",
       "4                      244        11/1/2003       Scholastic   \n",
       "5                    36325         5/1/2004  Scholastic Inc.   \n",
       "8                      164        9/13/2004       Scholastic   \n",
       "...                    ...              ...              ...   \n",
       "45631                   20       12/21/2004    Da Capo Press   \n",
       "45633                   56        12/1/1988    Penguin Books   \n",
       "45634                   95         8/1/1993    Penguin Books   \n",
       "45639                  139        2/27/2007             Ecco   \n",
       "45641                   12        5/28/2006    Edimat Libros   \n",
       "\n",
       "                     Author      Illustrator  \n",
       "bookID                                        \n",
       "1              J.K. Rowling    Mary GrandPré  \n",
       "2              J.K. Rowling    Mary GrandPré  \n",
       "4              J.K. Rowling                   \n",
       "5              J.K. Rowling    Mary GrandPré  \n",
       "8              J.K. Rowling    Mary GrandPré  \n",
       "...                     ...              ...  \n",
       "45631   William T. Vollmann  Larry McCaffery  \n",
       "45633   William T. Vollmann                   \n",
       "45634   William T. Vollmann                   \n",
       "45639   William T. Vollmann                   \n",
       "45641            Mark Twain                   \n",
       "\n",
       "[11123 rows x 14 columns]"
      ]
     },
     "execution_count": 9,
     "metadata": {},
     "output_type": "execute_result"
    }
   ],
   "source": [
    "# Make a function to clear our authors and create illustrators\n",
    "def splitter(string):\n",
    "    \"\"\"Takes string and splits the string into a new column according to the indicator we put (/)\"\"\"\n",
    "    \"\"\"Return a tab string\"\"\"\n",
    "    tab = string.split('/')[0]\n",
    "    return tab\n",
    "def splitter2(string):\n",
    "    tab = string.split('/')\n",
    "    if len(tab) > 1: \n",
    "        return tab[1]\n",
    "    else:\n",
    "        return \"\"\n",
    "df['Author'] = df['authors'].apply(splitter)\n",
    "df['Illustrator'] = df['authors'].apply(splitter2)\n",
    "df"
   ]
  },
  {
   "cell_type": "code",
   "execution_count": 10,
   "id": "70d46d69",
   "metadata": {},
   "outputs": [
    {
     "data": {
      "text/plain": [
       "False"
      ]
     },
     "execution_count": 10,
     "metadata": {},
     "output_type": "execute_result"
    }
   ],
   "source": [
    "#Check for Nulls\n",
    "df.isnull().values.any()"
   ]
  },
  {
   "cell_type": "markdown",
   "id": "3e540b4f",
   "metadata": {},
   "source": [
    "# Title Debugging"
   ]
  },
  {
   "cell_type": "code",
   "execution_count": 11,
   "id": "188bc730",
   "metadata": {},
   "outputs": [
    {
     "data": {
      "text/plain": [
       "The Iliad                                               9\n",
       "The Brothers Karamazov                                  9\n",
       "The Odyssey                                             8\n",
       "Anna Karenina                                           8\n",
       "'Salem's Lot                                            8\n",
       "                                                       ..\n",
       "The Noonday Demon: An Atlas of Depression               1\n",
       "The Noonday Demon: An Anatomy of Depression             1\n",
       "My Secret: A PostSecret Book                            1\n",
       "The Secret Lives of Men and Women: A PostSecret Book    1\n",
       "Las aventuras de Tom Sawyer                             1\n",
       "Name: title, Length: 10348, dtype: int64"
      ]
     },
     "execution_count": 11,
     "metadata": {},
     "output_type": "execute_result"
    }
   ],
   "source": [
    "#Duplicates in the title\n",
    "df['title'].value_counts()"
   ]
  },
  {
   "cell_type": "markdown",
   "id": "03c2d094",
   "metadata": {},
   "source": [
    "There can be a repeating title because a book was written again with a new illustrator."
   ]
  },
  {
   "cell_type": "code",
   "execution_count": 12,
   "id": "ab49a0f0",
   "metadata": {
    "scrolled": false
   },
   "outputs": [
    {
     "data": {
      "text/html": [
       "<div>\n",
       "<style scoped>\n",
       "    .dataframe tbody tr th:only-of-type {\n",
       "        vertical-align: middle;\n",
       "    }\n",
       "\n",
       "    .dataframe tbody tr th {\n",
       "        vertical-align: top;\n",
       "    }\n",
       "\n",
       "    .dataframe thead th {\n",
       "        text-align: right;\n",
       "    }\n",
       "</style>\n",
       "<table border=\"1\" class=\"dataframe\">\n",
       "  <thead>\n",
       "    <tr style=\"text-align: right;\">\n",
       "      <th></th>\n",
       "      <th>bookID</th>\n",
       "      <th>title</th>\n",
       "      <th>authors</th>\n",
       "      <th>average_rating</th>\n",
       "      <th>isbn</th>\n",
       "      <th>isbn13</th>\n",
       "      <th>language_code</th>\n",
       "      <th>num_pages</th>\n",
       "      <th>ratings_count</th>\n",
       "      <th>text_reviews_count</th>\n",
       "      <th>publication_date</th>\n",
       "      <th>publisher</th>\n",
       "      <th>Author</th>\n",
       "      <th>Illustrator</th>\n",
       "    </tr>\n",
       "    <tr>\n",
       "      <th>bookID</th>\n",
       "      <th></th>\n",
       "      <th></th>\n",
       "      <th></th>\n",
       "      <th></th>\n",
       "      <th></th>\n",
       "      <th></th>\n",
       "      <th></th>\n",
       "      <th></th>\n",
       "      <th></th>\n",
       "      <th></th>\n",
       "      <th></th>\n",
       "      <th></th>\n",
       "      <th></th>\n",
       "      <th></th>\n",
       "    </tr>\n",
       "  </thead>\n",
       "  <tbody>\n",
       "    <tr>\n",
       "      <th>1371</th>\n",
       "      <td>1371</td>\n",
       "      <td>The Iliad</td>\n",
       "      <td>Homer/Robert Fagles/Bernard Knox</td>\n",
       "      <td>3.86</td>\n",
       "      <td>0140275363</td>\n",
       "      <td>9780140275360</td>\n",
       "      <td>eng</td>\n",
       "      <td>683</td>\n",
       "      <td>288792</td>\n",
       "      <td>3423</td>\n",
       "      <td>4/29/1999</td>\n",
       "      <td>Penguin Classics</td>\n",
       "      <td>Homer</td>\n",
       "      <td>Robert Fagles</td>\n",
       "    </tr>\n",
       "    <tr>\n",
       "      <th>1374</th>\n",
       "      <td>1374</td>\n",
       "      <td>The Iliad</td>\n",
       "      <td>Homer/Robert Fitzgerald/Andrew Ford</td>\n",
       "      <td>3.86</td>\n",
       "      <td>0374529051</td>\n",
       "      <td>9780374529055</td>\n",
       "      <td>en-US</td>\n",
       "      <td>588</td>\n",
       "      <td>692</td>\n",
       "      <td>81</td>\n",
       "      <td>4/3/2004</td>\n",
       "      <td>Farrar  Straus and Giroux</td>\n",
       "      <td>Homer</td>\n",
       "      <td>Robert Fitzgerald</td>\n",
       "    </tr>\n",
       "    <tr>\n",
       "      <th>1376</th>\n",
       "      <td>1376</td>\n",
       "      <td>The Iliad</td>\n",
       "      <td>Homer/E.V. Rieu/Peter Jones/D.C.H. Rieu</td>\n",
       "      <td>3.86</td>\n",
       "      <td>0140447946</td>\n",
       "      <td>9780140447941</td>\n",
       "      <td>eng</td>\n",
       "      <td>462</td>\n",
       "      <td>1919</td>\n",
       "      <td>118</td>\n",
       "      <td>1/30/2003</td>\n",
       "      <td>Penguin Classics</td>\n",
       "      <td>Homer</td>\n",
       "      <td>E.V. Rieu</td>\n",
       "    </tr>\n",
       "    <tr>\n",
       "      <th>1377</th>\n",
       "      <td>1377</td>\n",
       "      <td>The Iliad</td>\n",
       "      <td>Homer/W.H.D. Rouse</td>\n",
       "      <td>3.86</td>\n",
       "      <td>0451527372</td>\n",
       "      <td>9780451527370</td>\n",
       "      <td>en-US</td>\n",
       "      <td>312</td>\n",
       "      <td>158</td>\n",
       "      <td>15</td>\n",
       "      <td>8/1/1999</td>\n",
       "      <td>Signet Classics</td>\n",
       "      <td>Homer</td>\n",
       "      <td>W.H.D. Rouse</td>\n",
       "    </tr>\n",
       "    <tr>\n",
       "      <th>1796</th>\n",
       "      <td>1796</td>\n",
       "      <td>The Iliad</td>\n",
       "      <td>Homer/Robert Fitzgerald</td>\n",
       "      <td>3.86</td>\n",
       "      <td>1857150600</td>\n",
       "      <td>9781857150605</td>\n",
       "      <td>eng</td>\n",
       "      <td>594</td>\n",
       "      <td>30</td>\n",
       "      <td>2</td>\n",
       "      <td>3/19/1992</td>\n",
       "      <td>Everyman</td>\n",
       "      <td>Homer</td>\n",
       "      <td>Robert Fitzgerald</td>\n",
       "    </tr>\n",
       "    <tr>\n",
       "      <th>12254</th>\n",
       "      <td>12254</td>\n",
       "      <td>The Iliad</td>\n",
       "      <td>Homer/Robert Fagles/Derek Jacobi</td>\n",
       "      <td>3.86</td>\n",
       "      <td>0143059289</td>\n",
       "      <td>9780143059288</td>\n",
       "      <td>eng</td>\n",
       "      <td>8</td>\n",
       "      <td>42</td>\n",
       "      <td>7</td>\n",
       "      <td>6/15/2006</td>\n",
       "      <td>Penguin-HighBridge</td>\n",
       "      <td>Homer</td>\n",
       "      <td>Robert Fagles</td>\n",
       "    </tr>\n",
       "    <tr>\n",
       "      <th>22221</th>\n",
       "      <td>22221</td>\n",
       "      <td>The Iliad</td>\n",
       "      <td>Homer</td>\n",
       "      <td>3.86</td>\n",
       "      <td>0471377589</td>\n",
       "      <td>9780471377580</td>\n",
       "      <td>eng</td>\n",
       "      <td>150</td>\n",
       "      <td>3834</td>\n",
       "      <td>134</td>\n",
       "      <td>10/28/1999</td>\n",
       "      <td>John Wiley &amp; Sons</td>\n",
       "      <td>Homer</td>\n",
       "      <td></td>\n",
       "    </tr>\n",
       "    <tr>\n",
       "      <th>32780</th>\n",
       "      <td>32780</td>\n",
       "      <td>The Iliad</td>\n",
       "      <td>Homer/Andrew Lang</td>\n",
       "      <td>3.86</td>\n",
       "      <td>1904633382</td>\n",
       "      <td>9781904633389</td>\n",
       "      <td>eng</td>\n",
       "      <td>542</td>\n",
       "      <td>64</td>\n",
       "      <td>8</td>\n",
       "      <td>9/1/2011</td>\n",
       "      <td>Collector's Library</td>\n",
       "      <td>Homer</td>\n",
       "      <td>Andrew Lang</td>\n",
       "    </tr>\n",
       "    <tr>\n",
       "      <th>32782</th>\n",
       "      <td>32782</td>\n",
       "      <td>The Iliad</td>\n",
       "      <td>Homer/Victor G. Ambrus/Nick McCarty</td>\n",
       "      <td>3.86</td>\n",
       "      <td>0753453215</td>\n",
       "      <td>9780753453216</td>\n",
       "      <td>eng</td>\n",
       "      <td>95</td>\n",
       "      <td>8</td>\n",
       "      <td>3</td>\n",
       "      <td>9/15/2000</td>\n",
       "      <td>Kingfisher</td>\n",
       "      <td>Homer</td>\n",
       "      <td>Victor G. Ambrus</td>\n",
       "    </tr>\n",
       "  </tbody>\n",
       "</table>\n",
       "</div>"
      ],
      "text/plain": [
       "        bookID      title                                  authors  \\\n",
       "bookID                                                               \n",
       "1371      1371  The Iliad         Homer/Robert Fagles/Bernard Knox   \n",
       "1374      1374  The Iliad      Homer/Robert Fitzgerald/Andrew Ford   \n",
       "1376      1376  The Iliad  Homer/E.V. Rieu/Peter Jones/D.C.H. Rieu   \n",
       "1377      1377  The Iliad                       Homer/W.H.D. Rouse   \n",
       "1796      1796  The Iliad                  Homer/Robert Fitzgerald   \n",
       "12254    12254  The Iliad         Homer/Robert Fagles/Derek Jacobi   \n",
       "22221    22221  The Iliad                                    Homer   \n",
       "32780    32780  The Iliad                        Homer/Andrew Lang   \n",
       "32782    32782  The Iliad      Homer/Victor G. Ambrus/Nick McCarty   \n",
       "\n",
       "        average_rating        isbn         isbn13 language_code  num_pages  \\\n",
       "bookID                                                                       \n",
       "1371              3.86  0140275363  9780140275360           eng        683   \n",
       "1374              3.86  0374529051  9780374529055         en-US        588   \n",
       "1376              3.86  0140447946  9780140447941           eng        462   \n",
       "1377              3.86  0451527372  9780451527370         en-US        312   \n",
       "1796              3.86  1857150600  9781857150605           eng        594   \n",
       "12254             3.86  0143059289  9780143059288           eng          8   \n",
       "22221             3.86  0471377589  9780471377580           eng        150   \n",
       "32780             3.86  1904633382  9781904633389           eng        542   \n",
       "32782             3.86  0753453215  9780753453216           eng         95   \n",
       "\n",
       "        ratings_count  text_reviews_count publication_date  \\\n",
       "bookID                                                       \n",
       "1371           288792                3423        4/29/1999   \n",
       "1374              692                  81         4/3/2004   \n",
       "1376             1919                 118        1/30/2003   \n",
       "1377              158                  15         8/1/1999   \n",
       "1796               30                   2        3/19/1992   \n",
       "12254              42                   7        6/15/2006   \n",
       "22221            3834                 134       10/28/1999   \n",
       "32780              64                   8         9/1/2011   \n",
       "32782               8                   3        9/15/2000   \n",
       "\n",
       "                        publisher Author        Illustrator  \n",
       "bookID                                                       \n",
       "1371             Penguin Classics  Homer      Robert Fagles  \n",
       "1374    Farrar  Straus and Giroux  Homer  Robert Fitzgerald  \n",
       "1376             Penguin Classics  Homer          E.V. Rieu  \n",
       "1377              Signet Classics  Homer       W.H.D. Rouse  \n",
       "1796                     Everyman  Homer  Robert Fitzgerald  \n",
       "12254          Penguin-HighBridge  Homer      Robert Fagles  \n",
       "22221           John Wiley & Sons  Homer                     \n",
       "32780         Collector's Library  Homer        Andrew Lang  \n",
       "32782                  Kingfisher  Homer   Victor G. Ambrus  "
      ]
     },
     "execution_count": 12,
     "metadata": {},
     "output_type": "execute_result"
    }
   ],
   "source": [
    "df[df['title'] == \"The Iliad\"]"
   ]
  },
  {
   "cell_type": "code",
   "execution_count": 14,
   "id": "987e230c",
   "metadata": {},
   "outputs": [
    {
     "data": {
      "text/html": [
       "<div>\n",
       "<style scoped>\n",
       "    .dataframe tbody tr th:only-of-type {\n",
       "        vertical-align: middle;\n",
       "    }\n",
       "\n",
       "    .dataframe tbody tr th {\n",
       "        vertical-align: top;\n",
       "    }\n",
       "\n",
       "    .dataframe thead th {\n",
       "        text-align: right;\n",
       "    }\n",
       "</style>\n",
       "<table border=\"1\" class=\"dataframe\">\n",
       "  <thead>\n",
       "    <tr style=\"text-align: right;\">\n",
       "      <th></th>\n",
       "      <th>bookID</th>\n",
       "      <th>average_rating</th>\n",
       "      <th>isbn13</th>\n",
       "      <th>num_pages</th>\n",
       "      <th>ratings_count</th>\n",
       "      <th>text_reviews_count</th>\n",
       "    </tr>\n",
       "  </thead>\n",
       "  <tbody>\n",
       "    <tr>\n",
       "      <th>count</th>\n",
       "      <td>11123.000000</td>\n",
       "      <td>11123.000000</td>\n",
       "      <td>1.112300e+04</td>\n",
       "      <td>11123.000000</td>\n",
       "      <td>1.112300e+04</td>\n",
       "      <td>11123.000000</td>\n",
       "    </tr>\n",
       "    <tr>\n",
       "      <th>mean</th>\n",
       "      <td>21310.856963</td>\n",
       "      <td>3.934075</td>\n",
       "      <td>9.759880e+12</td>\n",
       "      <td>336.405556</td>\n",
       "      <td>1.794285e+04</td>\n",
       "      <td>542.048099</td>\n",
       "    </tr>\n",
       "    <tr>\n",
       "      <th>std</th>\n",
       "      <td>13094.727252</td>\n",
       "      <td>0.350485</td>\n",
       "      <td>4.429758e+11</td>\n",
       "      <td>241.152626</td>\n",
       "      <td>1.124992e+05</td>\n",
       "      <td>2576.619589</td>\n",
       "    </tr>\n",
       "    <tr>\n",
       "      <th>min</th>\n",
       "      <td>1.000000</td>\n",
       "      <td>0.000000</td>\n",
       "      <td>8.987060e+09</td>\n",
       "      <td>0.000000</td>\n",
       "      <td>0.000000e+00</td>\n",
       "      <td>0.000000</td>\n",
       "    </tr>\n",
       "    <tr>\n",
       "      <th>25%</th>\n",
       "      <td>10277.500000</td>\n",
       "      <td>3.770000</td>\n",
       "      <td>9.780345e+12</td>\n",
       "      <td>192.000000</td>\n",
       "      <td>1.040000e+02</td>\n",
       "      <td>9.000000</td>\n",
       "    </tr>\n",
       "    <tr>\n",
       "      <th>50%</th>\n",
       "      <td>20287.000000</td>\n",
       "      <td>3.960000</td>\n",
       "      <td>9.780582e+12</td>\n",
       "      <td>299.000000</td>\n",
       "      <td>7.450000e+02</td>\n",
       "      <td>47.000000</td>\n",
       "    </tr>\n",
       "    <tr>\n",
       "      <th>75%</th>\n",
       "      <td>32104.500000</td>\n",
       "      <td>4.140000</td>\n",
       "      <td>9.780872e+12</td>\n",
       "      <td>416.000000</td>\n",
       "      <td>5.000500e+03</td>\n",
       "      <td>238.000000</td>\n",
       "    </tr>\n",
       "    <tr>\n",
       "      <th>max</th>\n",
       "      <td>45641.000000</td>\n",
       "      <td>5.000000</td>\n",
       "      <td>9.790008e+12</td>\n",
       "      <td>6576.000000</td>\n",
       "      <td>4.597666e+06</td>\n",
       "      <td>94265.000000</td>\n",
       "    </tr>\n",
       "  </tbody>\n",
       "</table>\n",
       "</div>"
      ],
      "text/plain": [
       "             bookID  average_rating        isbn13     num_pages  \\\n",
       "count  11123.000000    11123.000000  1.112300e+04  11123.000000   \n",
       "mean   21310.856963        3.934075  9.759880e+12    336.405556   \n",
       "std    13094.727252        0.350485  4.429758e+11    241.152626   \n",
       "min        1.000000        0.000000  8.987060e+09      0.000000   \n",
       "25%    10277.500000        3.770000  9.780345e+12    192.000000   \n",
       "50%    20287.000000        3.960000  9.780582e+12    299.000000   \n",
       "75%    32104.500000        4.140000  9.780872e+12    416.000000   \n",
       "max    45641.000000        5.000000  9.790008e+12   6576.000000   \n",
       "\n",
       "       ratings_count  text_reviews_count  \n",
       "count   1.112300e+04        11123.000000  \n",
       "mean    1.794285e+04          542.048099  \n",
       "std     1.124992e+05         2576.619589  \n",
       "min     0.000000e+00            0.000000  \n",
       "25%     1.040000e+02            9.000000  \n",
       "50%     7.450000e+02           47.000000  \n",
       "75%     5.000500e+03          238.000000  \n",
       "max     4.597666e+06        94265.000000  "
      ]
     },
     "execution_count": 14,
     "metadata": {},
     "output_type": "execute_result"
    }
   ],
   "source": [
    "df.describe()"
   ]
  },
  {
   "cell_type": "markdown",
   "id": "88c0e5c5",
   "metadata": {},
   "source": [
    "Incosistent Numbers:\n",
    "\n",
    "Num page should be above 0 \n",
    "\n",
    "Rating counts x100000\n",
    "\n",
    "Text review Maximum is above 90 000...\n"
   ]
  },
  {
   "cell_type": "code",
   "execution_count": 15,
   "id": "b1a4e77d",
   "metadata": {},
   "outputs": [
    {
     "data": {
      "text/plain": [
       "array([[<AxesSubplot:title={'center':'bookID'}>,\n",
       "        <AxesSubplot:title={'center':'average_rating'}>],\n",
       "       [<AxesSubplot:title={'center':'isbn13'}>,\n",
       "        <AxesSubplot:title={'center':'num_pages'}>],\n",
       "       [<AxesSubplot:title={'center':'ratings_count'}>,\n",
       "        <AxesSubplot:title={'center':'text_reviews_count'}>]],\n",
       "      dtype=object)"
      ]
     },
     "execution_count": 15,
     "metadata": {},
     "output_type": "execute_result"
    },
    {
     "data": {
      "text/plain": [
       "<Figure size 1440x2160 with 0 Axes>"
      ]
     },
     "metadata": {},
     "output_type": "display_data"
    },
    {
     "data": {
      "image/png": "[encoded data removed]",
      "text/plain": [
       "<Figure size 432x288 with 6 Axes>"
      ]
     },
     "metadata": {
      "needs_background": "light"
     },
     "output_type": "display_data"
    }
   ],
   "source": [
    "plt.figure(figsize=(20,30))\n",
    "df.hist()"
   ]
  },
  {
   "cell_type": "markdown",
   "id": "ec9f8b4d",
   "metadata": {},
   "source": [
    "Data is skewed negatively, we can see a lot of inconsistencies"
   ]
  },
  {
   "cell_type": "code",
   "execution_count": 16,
   "id": "eb7cf5ba",
   "metadata": {},
   "outputs": [
    {
     "data": {
      "text/plain": [
       "<AxesSubplot:xlabel='average_rating'>"
      ]
     },
     "execution_count": 16,
     "metadata": {},
     "output_type": "execute_result"
    },
    {
     "data": {
      "image/png": "[encoded data removed]",
      "text/plain": [
       "<Figure size 432x288 with 1 Axes>"
      ]
     },
     "metadata": {
      "needs_background": "light"
     },
     "output_type": "display_data"
    }
   ],
   "source": [
    "# Average rating\n",
    "plt.figure()\n",
    "sns.boxplot(x=df['average_rating'])"
   ]
  },
  {
   "cell_type": "markdown",
   "id": "cce3e86a",
   "metadata": {},
   "source": [
    "First visualisation of variables not showing"
   ]
  },
  {
   "cell_type": "code",
   "execution_count": 17,
   "id": "7882ef2a",
   "metadata": {},
   "outputs": [
    {
     "data": {
      "text/plain": [
       "<AxesSubplot:xlabel='num_pages'>"
      ]
     },
     "execution_count": 17,
     "metadata": {},
     "output_type": "execute_result"
    },
    {
     "data": {
      "image/png": "[encoded data removed]",
      "text/plain": [
       "<Figure size 432x288 with 1 Axes>"
      ]
     },
     "metadata": {
      "needs_background": "light"
     },
     "output_type": "display_data"
    }
   ],
   "source": [
    "# Num pages\n",
    "plt.figure()\n",
    "sns.boxplot(x=df['num_pages'])"
   ]
  },
  {
   "cell_type": "markdown",
   "id": "adc64ef2",
   "metadata": {},
   "source": [
    "Outliers in the plot"
   ]
  },
  {
   "cell_type": "code",
   "execution_count": 18,
   "id": "c7c09fbd",
   "metadata": {},
   "outputs": [
    {
     "data": {
      "text/plain": [
       "<AxesSubplot:xlabel='text_reviews_count'>"
      ]
     },
     "execution_count": 18,
     "metadata": {},
     "output_type": "execute_result"
    },
    {
     "data": {
      "image/png": "[encoded data removed]",
      "text/plain": [
       "<Figure size 432x288 with 1 Axes>"
      ]
     },
     "metadata": {
      "needs_background": "light"
     },
     "output_type": "display_data"
    }
   ],
   "source": [
    "# Text Reviews Count\n",
    "plt.figure()\n",
    "sns.boxplot(x=df['text_reviews_count'])"
   ]
  },
  {
   "cell_type": "markdown",
   "id": "5f66a7e5",
   "metadata": {},
   "source": [
    "Outliers in the plot"
   ]
  },
  {
   "cell_type": "code",
   "execution_count": 19,
   "id": "a3d17c0f",
   "metadata": {},
   "outputs": [
    {
     "data": {
      "text/plain": [
       "<AxesSubplot:xlabel='ratings_count'>"
      ]
     },
     "execution_count": 19,
     "metadata": {},
     "output_type": "execute_result"
    },
    {
     "data": {
      "image/png": "[encoded data removed]",
      "text/plain": [
       "<Figure size 432x288 with 1 Axes>"
      ]
     },
     "metadata": {
      "needs_background": "light"
     },
     "output_type": "display_data"
    }
   ],
   "source": [
    "# Ratings count\n",
    "plt.figure()\n",
    "sns.boxplot(x=df['ratings_count'])"
   ]
  },
  {
   "cell_type": "markdown",
   "id": "6827b36a",
   "metadata": {},
   "source": [
    "### Removing Outliers"
   ]
  },
  {
   "cell_type": "code",
   "execution_count": 20,
   "id": "33e22e7c",
   "metadata": {},
   "outputs": [],
   "source": [
    "df = df[df['num_pages'] != 0]\n",
    "df = df[df['num_pages'] > 10]\n",
    "df = df[df['num_pages'] < 2000]\n",
    "df = df[df['ratings_count']<= 2500]\n",
    "df = df[df['text_reviews_count'] < 238]\n",
    "df = df[df['ratings_count'] > 0]\n",
    "df = df[df['text_reviews_count'] > 0]"
   ]
  },
  {
   "cell_type": "markdown",
   "id": "47093c01",
   "metadata": {},
   "source": [
    "#  Exploratory Data Analysis"
   ]
  },
  {
   "cell_type": "code",
   "execution_count": 21,
   "id": "68f3de7f",
   "metadata": {},
   "outputs": [
    {
     "data": {
      "text/html": [
       "<div>\n",
       "<style scoped>\n",
       "    .dataframe tbody tr th:only-of-type {\n",
       "        vertical-align: middle;\n",
       "    }\n",
       "\n",
       "    .dataframe tbody tr th {\n",
       "        vertical-align: top;\n",
       "    }\n",
       "\n",
       "    .dataframe thead th {\n",
       "        text-align: right;\n",
       "    }\n",
       "</style>\n",
       "<table border=\"1\" class=\"dataframe\">\n",
       "  <thead>\n",
       "    <tr style=\"text-align: right;\">\n",
       "      <th></th>\n",
       "      <th>bookID</th>\n",
       "      <th>average_rating</th>\n",
       "      <th>isbn13</th>\n",
       "      <th>num_pages</th>\n",
       "      <th>ratings_count</th>\n",
       "      <th>text_reviews_count</th>\n",
       "    </tr>\n",
       "  </thead>\n",
       "  <tbody>\n",
       "    <tr>\n",
       "      <th>count</th>\n",
       "      <td>6505.000000</td>\n",
       "      <td>6505.000000</td>\n",
       "      <td>6.505000e+03</td>\n",
       "      <td>6505.000000</td>\n",
       "      <td>6505.000000</td>\n",
       "      <td>6505.000000</td>\n",
       "    </tr>\n",
       "    <tr>\n",
       "      <th>mean</th>\n",
       "      <td>22065.349731</td>\n",
       "      <td>3.928125</td>\n",
       "      <td>9.753809e+12</td>\n",
       "      <td>330.905919</td>\n",
       "      <td>532.498078</td>\n",
       "      <td>37.564489</td>\n",
       "    </tr>\n",
       "    <tr>\n",
       "      <th>std</th>\n",
       "      <td>13096.342896</td>\n",
       "      <td>0.297798</td>\n",
       "      <td>5.021958e+11</td>\n",
       "      <td>223.152009</td>\n",
       "      <td>612.132324</td>\n",
       "      <td>44.635897</td>\n",
       "    </tr>\n",
       "    <tr>\n",
       "      <th>min</th>\n",
       "      <td>9.000000</td>\n",
       "      <td>1.670000</td>\n",
       "      <td>8.987060e+09</td>\n",
       "      <td>11.000000</td>\n",
       "      <td>1.000000</td>\n",
       "      <td>1.000000</td>\n",
       "    </tr>\n",
       "    <tr>\n",
       "      <th>25%</th>\n",
       "      <td>11101.000000</td>\n",
       "      <td>3.750000</td>\n",
       "      <td>9.780374e+12</td>\n",
       "      <td>192.000000</td>\n",
       "      <td>72.000000</td>\n",
       "      <td>6.000000</td>\n",
       "    </tr>\n",
       "    <tr>\n",
       "      <th>50%</th>\n",
       "      <td>22063.000000</td>\n",
       "      <td>3.940000</td>\n",
       "      <td>9.780680e+12</td>\n",
       "      <td>288.000000</td>\n",
       "      <td>269.000000</td>\n",
       "      <td>20.000000</td>\n",
       "    </tr>\n",
       "    <tr>\n",
       "      <th>75%</th>\n",
       "      <td>32884.000000</td>\n",
       "      <td>4.130000</td>\n",
       "      <td>9.780977e+12</td>\n",
       "      <td>411.000000</td>\n",
       "      <td>797.000000</td>\n",
       "      <td>52.000000</td>\n",
       "    </tr>\n",
       "    <tr>\n",
       "      <th>max</th>\n",
       "      <td>45641.000000</td>\n",
       "      <td>5.000000</td>\n",
       "      <td>9.789999e+12</td>\n",
       "      <td>1952.000000</td>\n",
       "      <td>2500.000000</td>\n",
       "      <td>237.000000</td>\n",
       "    </tr>\n",
       "  </tbody>\n",
       "</table>\n",
       "</div>"
      ],
      "text/plain": [
       "             bookID  average_rating        isbn13    num_pages  ratings_count  \\\n",
       "count   6505.000000     6505.000000  6.505000e+03  6505.000000    6505.000000   \n",
       "mean   22065.349731        3.928125  9.753809e+12   330.905919     532.498078   \n",
       "std    13096.342896        0.297798  5.021958e+11   223.152009     612.132324   \n",
       "min        9.000000        1.670000  8.987060e+09    11.000000       1.000000   \n",
       "25%    11101.000000        3.750000  9.780374e+12   192.000000      72.000000   \n",
       "50%    22063.000000        3.940000  9.780680e+12   288.000000     269.000000   \n",
       "75%    32884.000000        4.130000  9.780977e+12   411.000000     797.000000   \n",
       "max    45641.000000        5.000000  9.789999e+12  1952.000000    2500.000000   \n",
       "\n",
       "       text_reviews_count  \n",
       "count         6505.000000  \n",
       "mean            37.564489  \n",
       "std             44.635897  \n",
       "min              1.000000  \n",
       "25%              6.000000  \n",
       "50%             20.000000  \n",
       "75%             52.000000  \n",
       "max            237.000000  "
      ]
     },
     "execution_count": 21,
     "metadata": {},
     "output_type": "execute_result"
    }
   ],
   "source": [
    "df.describe()"
   ]
  },
  {
   "cell_type": "code",
   "execution_count": 24,
   "id": "995dc3e2",
   "metadata": {},
   "outputs": [
    {
     "data": {
      "text/plain": [
       "<AxesSubplot:xlabel='num_pages'>"
      ]
     },
     "execution_count": 24,
     "metadata": {},
     "output_type": "execute_result"
    },
    {
     "data": {
      "image/png": "[encoded data removed]",
      "text/plain": [
       "<Figure size 432x288 with 1 Axes>"
      ]
     },
     "metadata": {
      "needs_background": "light"
     },
     "output_type": "display_data"
    }
   ],
   "source": [
    "# Num pages\n",
    "plt.figure()\n",
    "sns.boxplot(x=df['num_pages'])"
   ]
  },
  {
   "cell_type": "code",
   "execution_count": 25,
   "id": "972d1374",
   "metadata": {},
   "outputs": [
    {
     "data": {
      "text/plain": [
       "<AxesSubplot:xlabel='text_reviews_count'>"
      ]
     },
     "execution_count": 25,
     "metadata": {},
     "output_type": "execute_result"
    },
    {
     "data": {
      "image/png": "[encoded data removed]",
      "text/plain": [
       "<Figure size 432x288 with 1 Axes>"
      ]
     },
     "metadata": {
      "needs_background": "light"
     },
     "output_type": "display_data"
    }
   ],
   "source": [
    "# Text Reviews Count\n",
    "plt.figure()\n",
    "sns.boxplot(x=df['text_reviews_count'])"
   ]
  },
  {
   "cell_type": "code",
   "execution_count": 26,
   "id": "5e3c30d2",
   "metadata": {},
   "outputs": [
    {
     "data": {
      "text/plain": [
       "<AxesSubplot:xlabel='ratings_count'>"
      ]
     },
     "execution_count": 26,
     "metadata": {},
     "output_type": "execute_result"
    },
    {
     "data": {
      "image/png": "[encoded data removed]",
      "text/plain": [
       "<Figure size 432x288 with 1 Axes>"
      ]
     },
     "metadata": {
      "needs_background": "light"
     },
     "output_type": "display_data"
    }
   ],
   "source": [
    "# Ratings count\n",
    "plt.figure()\n",
    "sns.boxplot(x=df['ratings_count'])"
   ]
  },
  {
   "cell_type": "code",
   "execution_count": 27,
   "id": "bd85906b",
   "metadata": {
    "scrolled": false
   },
   "outputs": [
    {
     "data": {
      "text/plain": [
       "Text(0.5, 1.0, 'Language Code')"
      ]
     },
     "execution_count": 27,
     "metadata": {},
     "output_type": "execute_result"
    },
    {
     "data": {
      "image/png": "[encoded data removed]",
      "text/plain": [
       "<Figure size 1080x720 with 1 Axes>"
      ]
     },
     "metadata": {
      "needs_background": "light"
     },
     "output_type": "display_data"
    }
   ],
   "source": [
    "# Language Code Repartition\n",
    "df['language_code'] = df['language_code'].replace(['en-US', 'en-CA', 'en-GB'], 'eng')\n",
    "plt.figure(figsize=(15,10))\n",
    "df.groupby('language_code')['title'].count().plot.bar()\n",
    "plt.title('Language Code')"
   ]
  },
  {
   "cell_type": "markdown",
   "id": "14517371",
   "metadata": {},
   "source": [
    "unsurprisingly most books are in english, followed by spanish, french, german and japanese. "
   ]
  },
  {
   "cell_type": "code",
   "execution_count": 22,
   "id": "4756d608",
   "metadata": {
    "scrolled": false
   },
   "outputs": [
    {
     "data": {
      "text/plain": [
       "<AxesSubplot:xlabel='average_rating', ylabel='Density'>"
      ]
     },
     "execution_count": 22,
     "metadata": {},
     "output_type": "execute_result"
    },
    {
     "data": {
      "image/png": "[encoded data removed]",
      "text/plain": [
       "<Figure size 720x720 with 1 Axes>"
      ]
     },
     "metadata": {
      "needs_background": "light"
     },
     "output_type": "display_data"
    }
   ],
   "source": [
    "# Average Rating\n",
    "plt.figure(figsize=(10,10))\n",
    "rating= df.average_rating.astype(float)\n",
    "sns.distplot(rating, bins = 20)"
   ]
  },
  {
   "cell_type": "code",
   "execution_count": 23,
   "id": "23fb755b",
   "metadata": {},
   "outputs": [
    {
     "data": {
      "text/plain": [
       "ShapiroResult(statistic=0.9827989339828491, pvalue=2.1973133106298246e-27)"
      ]
     },
     "execution_count": 23,
     "metadata": {},
     "output_type": "execute_result"
    }
   ],
   "source": [
    "shapiro_test = stats.shapiro(df.average_rating)\n",
    "shapiro_test"
   ]
  },
  {
   "cell_type": "markdown",
   "id": "4644447b",
   "metadata": {},
   "source": [
    "Shapiro test output pvalue < 0.05 so we can say that the Average Rating is normally distributed with at least a 5% error margin"
   ]
  },
  {
   "cell_type": "code",
   "execution_count": 28,
   "id": "6644b98f",
   "metadata": {
    "scrolled": false
   },
   "outputs": [
    {
     "data": {
      "text/plain": [
       "<AxesSubplot:xlabel='ratings_count', ylabel='title'>"
      ]
     },
     "execution_count": 28,
     "metadata": {},
     "output_type": "execute_result"
    },
    {
     "data": {
      "image/png": "[encoded data removed]",
      "text/plain": [
       "<Figure size 1080x720 with 1 Axes>"
      ]
     },
     "metadata": {
      "needs_background": "light"
     },
     "output_type": "display_data"
    }
   ],
   "source": [
    "#Highest amount of ratings\n",
    "most_rated = df.sort_values('ratings_count', ascending = False).head(10).set_index('title')\n",
    "plt.figure(figsize=(15,10))\n",
    "plt.xlabel('Number of Ratings')\n",
    "plt.ylabel('Books')\n",
    "\n",
    "sns.barplot(most_rated['ratings_count'], most_rated.index, palette = 'rocket')\n"
   ]
  },
  {
   "cell_type": "markdown",
   "id": "93cf4396",
   "metadata": {},
   "source": [
    "The Armies of the night is the book with the most ratings"
   ]
  },
  {
   "cell_type": "code",
   "execution_count": 47,
   "id": "7924dd26",
   "metadata": {},
   "outputs": [
    {
     "data": {
      "text/plain": [
       "Text(0, 0.5, 'Total Number Of Books')"
      ]
     },
     "execution_count": 47,
     "metadata": {},
     "output_type": "execute_result"
    },
    {
     "data": {
      "image/png": "[encoded data removed]",
      "text/plain": [
       "<Figure size 1080x720 with 1 Axes>"
      ]
     },
     "metadata": {
      "needs_background": "light"
     },
     "output_type": "display_data"
    }
   ],
   "source": [
    "# Publishers with highest amount of books\n",
    "most_df = df.groupby('publisher')['title'].count().reset_index().sort_values('title', ascending = False).head(10).set_index('publisher')\n",
    "plt.figure(figsize=(15,10))\n",
    "sns.barplot(most_df['title'], most_df.index, palette = 'icefire_r')\n",
    "plt.xlabel('Publisher with highest number of books')\n",
    "plt.ylabel('Total Number Of Books')"
   ]
  },
  {
   "cell_type": "markdown",
   "id": "2ca26ee1",
   "metadata": {},
   "source": [
    "Vintage Publisher has the highest amount of books published"
   ]
  },
  {
   "cell_type": "code",
   "execution_count": 30,
   "id": "cd45e658",
   "metadata": {},
   "outputs": [
    {
     "data": {
      "text/plain": [
       "Text(0, 0.5, 'Total Number Of Books')"
      ]
     },
     "execution_count": 30,
     "metadata": {},
     "output_type": "execute_result"
    },
    {
     "data": {
      "image/png": "[encoded data removed]",
      "text/plain": [
       "<Figure size 1080x720 with 1 Axes>"
      ]
     },
     "metadata": {
      "needs_background": "light"
     },
     "output_type": "display_data"
    }
   ],
   "source": [
    "# Author with highest number of books\n",
    "most_df = df.groupby('Author')['title'].count().reset_index().sort_values('title', ascending = False).head(10).set_index('Author')\n",
    "plt.figure(figsize=(15,10))\n",
    "sns.barplot(most_df['title'], most_df.index, palette = 'icefire_r')\n",
    "plt.xlabel('Authors with highest number of books')\n",
    "plt.ylabel('Total Number Of Books')"
   ]
  },
  {
   "cell_type": "markdown",
   "id": "c607c729",
   "metadata": {},
   "source": [
    "We recognize the authors with highest amounts of books like William Shakespear and Stephen King "
   ]
  },
  {
   "cell_type": "code",
   "execution_count": 48,
   "id": "30e6698e",
   "metadata": {},
   "outputs": [
    {
     "data": {
      "text/plain": [
       "Text(0, 0.5, 'Total Number Of Books')"
      ]
     },
     "execution_count": 48,
     "metadata": {},
     "output_type": "execute_result"
    },
    {
     "data": {
      "image/png": "[encoded data removed]",
      "text/plain": [
       "<Figure size 1080x720 with 1 Axes>"
      ]
     },
     "metadata": {
      "needs_background": "light"
     },
     "output_type": "display_data"
    }
   ],
   "source": [
    "# Illustrators with highest number of books\n",
    "most_df = df.groupby('Illustrator')['title'].count().reset_index().sort_values('title', ascending = False).head(10).set_index('Illustrator')\n",
    "\n",
    "most_df = most_df[most_df['title'] != 3536]\n",
    "plt.figure(figsize=(15,10))\n",
    "sns.barplot(most_df['title'], most_df.index, palette = 'icefire_r')\n",
    "plt.xlabel('Illustrators with highest number of books')\n",
    "plt.ylabel('Total Number Of Books')\n"
   ]
  },
  {
   "cell_type": "markdown",
   "id": "9f948236",
   "metadata": {},
   "source": [
    "Sandra Brown is the Illustrator with the highest amount of books illustrated"
   ]
  },
  {
   "cell_type": "markdown",
   "id": "ace457ee",
   "metadata": {},
   "source": [
    "# Machine Learning Model Comparison"
   ]
  },
  {
   "cell_type": "markdown",
   "id": "6949940c",
   "metadata": {},
   "source": [
    "## Feature Selection: \n",
    "\n",
    "I have decided to work with three variables to get the prediction in the end:\n",
    "\n",
    "num_page ratings_count and text_reviews_count.\n",
    "\n",
    "I have not chosen ISBN and ID as their uniqueness will not be relevant for machine prediction as they are identifiers"
   ]
  },
  {
   "cell_type": "code",
   "execution_count": 32,
   "id": "5f270265",
   "metadata": {},
   "outputs": [],
   "source": [
    "df_true = df[['num_pages', 'average_rating', 'ratings_count', 'text_reviews_count']]\n",
    "X = df_true[['num_pages', 'ratings_count', 'text_reviews_count']]\n",
    "y = df_true['average_rating']\n",
    "# Three variables -> going out on average rating that i want to optimise!\n"
   ]
  },
  {
   "cell_type": "markdown",
   "id": "4a6743b8",
   "metadata": {},
   "source": [
    "##  Transforming the variables for Machine Learning"
   ]
  },
  {
   "cell_type": "code",
   "execution_count": 33,
   "id": "5a57b380",
   "metadata": {},
   "outputs": [],
   "source": [
    "scaler = StandardScaler()\n",
    "X = scaler.fit_transform(X)"
   ]
  },
  {
   "cell_type": "markdown",
   "id": "27f9b90e",
   "metadata": {},
   "source": [
    "Scaler to transform data to put them into the same range \n",
    "\n",
    "For example num pages and text count have different ranges of value we need to normalise the data first "
   ]
  },
  {
   "cell_type": "code",
   "execution_count": 34,
   "id": "9489a3a2",
   "metadata": {},
   "outputs": [],
   "source": [
    "X_train, X_test, y_train, y_test = train_test_split(X, y, test_size = 0.2, random_state = 20)"
   ]
  },
  {
   "cell_type": "markdown",
   "id": "7a14932f",
   "metadata": {},
   "source": [
    "We need to split data from training to testing \n",
    "X_train will be confronted to Y_train while the \n",
    "X_test  will be for testing to see the closeness to the Y_test"
   ]
  },
  {
   "cell_type": "code",
   "execution_count": 35,
   "id": "d30120bf",
   "metadata": {},
   "outputs": [],
   "source": [
    "linReg = LinearRegression()\n",
    "linReg.fit(X_train, y_train)\n",
    "Predicted_Scores = linReg.predict(X_test)"
   ]
  },
  {
   "cell_type": "markdown",
   "id": "97b39e35",
   "metadata": {},
   "source": [
    "Will we be able to have an equation to explain Y (average rating)? "
   ]
  },
  {
   "cell_type": "code",
   "execution_count": 36,
   "id": "dee1ebac",
   "metadata": {},
   "outputs": [
    {
     "name": "stdout",
     "output_type": "stream",
     "text": [
      "Mean Absolute Error (MAE): 0.22351345163384315\n",
      "Mean Squared Error (MSE): 0.0812107921003558\n",
      "Root Mean Squared Error (RMSE): 0.28497507277015616\n"
     ]
    }
   ],
   "source": [
    "print('Mean Absolute Error (MAE):', metrics.mean_absolute_error(y_test, Predicted_Scores))\n",
    "print('Mean Squared Error (MSE):', metrics.mean_squared_error(y_test, Predicted_Scores))\n",
    "print('Root Mean Squared Error (RMSE):', np.sqrt(metrics.mean_squared_error(y_test, Predicted_Scores)))"
   ]
  },
  {
   "cell_type": "markdown",
   "id": "77a1b765",
   "metadata": {},
   "source": [
    "MAE - Testing the Average Rating Predicted to see if it is close to the real Average Rating \n",
    "MSE - Having a precise idea of the model error.\n",
    "RMSE - Having a precise idea of the model error\n",
    "\n",
    "Since the error > 1 it meanse that it's a good modelisation. Ideal is of course 0."
   ]
  },
  {
   "cell_type": "code",
   "execution_count": 37,
   "id": "09699437",
   "metadata": {},
   "outputs": [],
   "source": [
    "df_true = df[['num_pages', 'average_rating', 'ratings_count', 'text_reviews_count']]\n",
    "X = df_true[['num_pages', 'ratings_count', 'text_reviews_count']]\n",
    "y = df_true['average_rating']"
   ]
  },
  {
   "cell_type": "code",
   "execution_count": 38,
   "id": "056c40d8",
   "metadata": {},
   "outputs": [],
   "source": [
    "pt = PowerTransformer()\n",
    "X = pt.fit_transform(X)"
   ]
  },
  {
   "cell_type": "markdown",
   "id": "f9298896",
   "metadata": {},
   "source": [
    "power transform removes the skewing and standarsies the data at the same time"
   ]
  },
  {
   "cell_type": "code",
   "execution_count": 39,
   "id": "d81bdc07",
   "metadata": {},
   "outputs": [],
   "source": [
    "X_train, X_test, y_train, y_test = train_test_split(X, y, test_size = 0.2, random_state = 20)"
   ]
  },
  {
   "cell_type": "code",
   "execution_count": 40,
   "id": "a3f28ac5",
   "metadata": {},
   "outputs": [],
   "source": [
    "linReg = LinearRegression()\n",
    "linReg.fit(X_train, y_train)\n",
    "Predicted_Scores = linReg.predict(X_test)"
   ]
  },
  {
   "cell_type": "code",
   "execution_count": 41,
   "id": "60503884",
   "metadata": {},
   "outputs": [
    {
     "name": "stdout",
     "output_type": "stream",
     "text": [
      "Mean Absolute Error (MAE): 0.22546571340496527\n",
      "Mean Squared Error (MSE): 0.08229994758132696\n",
      "Root Mean Squared Error (RMSE): 0.2868796743956026\n"
     ]
    }
   ],
   "source": [
    "print('Mean Absolute Error (MAE):', metrics.mean_absolute_error(y_test, Predicted_Scores))\n",
    "print('Mean Squared Error (MSE):', metrics.mean_squared_error(y_test, Predicted_Scores))\n",
    "print('Root Mean Squared Error (RMSE):', np.sqrt(metrics.mean_squared_error(y_test, Predicted_Scores)))"
   ]
  },
  {
   "cell_type": "markdown",
   "id": "e263e334",
   "metadata": {},
   "source": [
    "In conclusion skewing the data did not have an impact on the model"
   ]
  },
  {
   "cell_type": "code",
   "execution_count": 42,
   "id": "a43cc3e2",
   "metadata": {},
   "outputs": [],
   "source": [
    "Rig = Ridge(alpha = 1)\n",
    "Rig.fit(X_train, y_train)\n",
    "Predicted_Scores = Rig.predict(X_test)"
   ]
  },
  {
   "cell_type": "markdown",
   "id": "63a9eeba",
   "metadata": {},
   "source": [
    "Ridge is another type of progressive regression that applies a penaliastion (here alpha = 1)"
   ]
  },
  {
   "cell_type": "code",
   "execution_count": 43,
   "id": "aa53a5de",
   "metadata": {},
   "outputs": [
    {
     "name": "stdout",
     "output_type": "stream",
     "text": [
      "Mean Absolute Error (MAE): 0.2254637821041687\n",
      "Mean Squared Error (MSE): 0.0822989062463118\n",
      "Root Mean Squared Error (RMSE): 0.28687785945644495\n"
     ]
    }
   ],
   "source": [
    "print('Mean Absolute Error (MAE):', metrics.mean_absolute_error(y_test, Predicted_Scores))\n",
    "print('Mean Squared Error (MSE):', metrics.mean_squared_error(y_test, Predicted_Scores))\n",
    "print('Root Mean Squared Error (RMSE):', np.sqrt(metrics.mean_squared_error(y_test, Predicted_Scores)))"
   ]
  },
  {
   "cell_type": "markdown",
   "id": "0583a70a",
   "metadata": {},
   "source": [
    "# Deep Learning Regression"
   ]
  },
  {
   "cell_type": "code",
   "execution_count": 44,
   "id": "3453b162",
   "metadata": {
    "scrolled": true
   },
   "outputs": [
    {
     "data": {
      "text/plain": [
       "{'loss': [19.40596580505371,\n",
       "  17.084138870239258,\n",
       "  15.072831153869629,\n",
       "  13.320192337036133,\n",
       "  11.793525695800781,\n",
       "  10.467325210571289,\n",
       "  9.307099342346191,\n",
       "  8.290157318115234,\n",
       "  7.391387462615967,\n",
       "  6.592278003692627,\n",
       "  5.877050399780273,\n",
       "  5.233256816864014,\n",
       "  4.6492767333984375,\n",
       "  4.118906021118164,\n",
       "  3.6361560821533203,\n",
       "  3.1964778900146484,\n",
       "  2.7964909076690674,\n",
       "  2.434241533279419,\n",
       "  2.1068215370178223,\n",
       "  1.812680959701538,\n",
       "  1.5494279861450195,\n",
       "  1.3156499862670898,\n",
       "  1.1094471216201782,\n",
       "  0.9289647340774536,\n",
       "  0.772399365901947,\n",
       "  0.6377637386322021,\n",
       "  0.5235260128974915,\n",
       "  0.42759090662002563,\n",
       "  0.34825950860977173,\n",
       "  0.28375694155693054,\n",
       "  0.23198655247688293,\n",
       "  0.19133609533309937,\n",
       "  0.16009162366390228,\n",
       "  0.13664935529232025,\n",
       "  0.11954816430807114,\n",
       "  0.10744564980268478,\n",
       "  0.09907292574644089,\n",
       "  0.09354737401008606,\n",
       "  0.09006752073764801,\n",
       "  0.08792456239461899,\n",
       "  0.08667147904634476,\n",
       "  0.08594410866498947,\n",
       "  0.08559810370206833,\n",
       "  0.08539225161075592,\n",
       "  0.08535616844892502,\n",
       "  0.08531233668327332,\n",
       "  0.0852532833814621,\n",
       "  0.08526382595300674,\n",
       "  0.08523449301719666,\n",
       "  0.08529135584831238]}"
      ]
     },
     "execution_count": 44,
     "metadata": {},
     "output_type": "execute_result"
    }
   ],
   "source": [
    "model = Sequential()\n",
    "model.add(Dense(1, input_dim=3))\n",
    "model.add(Activation('linear'))\n",
    "adam = Adam(learning_rate=0.001)\n",
    "model.compile(loss='mse',optimizer=adam)\n",
    "history = model.fit(X_train,y_train,epochs=50,verbose=0)\n",
    "history.history"
   ]
  },
  {
   "cell_type": "markdown",
   "id": "6eef50e4",
   "metadata": {},
   "source": [
    "Sequencial step layer that works with 3 values (3 variables) and one exit for the prediction (average rating)\n",
    "\n",
    "The output will be linearized with an activation function to transform the exit of my model\n",
    "\n",
    "The learning rate determines the speed of learning, \n",
    "\n",
    "Model loss is programed in Mean Squarred Error"
   ]
  },
  {
   "cell_type": "code",
   "execution_count": 45,
   "id": "d26a66ff",
   "metadata": {},
   "outputs": [
    {
     "name": "stdout",
     "output_type": "stream",
     "text": [
      "41/41 [==============================] - 0s 844us/step\n"
     ]
    },
    {
     "data": {
      "text/plain": [
       "array([[3.8684223],\n",
       "       [3.9696884],\n",
       "       [3.8648226],\n",
       "       ...,\n",
       "       [3.9426162],\n",
       "       [3.8813994],\n",
       "       [3.8439705]], dtype=float32)"
      ]
     },
     "execution_count": 45,
     "metadata": {},
     "output_type": "execute_result"
    }
   ],
   "source": [
    "model.predict(\n",
    "    X_test,\n",
    "    batch_size=None)"
   ]
  },
  {
   "cell_type": "markdown",
   "id": "6b247d39",
   "metadata": {},
   "source": [
    "We make a prediction to calculate the MAE, MSE , RMSE"
   ]
  },
  {
   "cell_type": "code",
   "execution_count": 46,
   "id": "34a5548d",
   "metadata": {},
   "outputs": [
    {
     "name": "stdout",
     "output_type": "stream",
     "text": [
      "41/41 [==============================] - 0s 889us/step\n",
      "Mean Absolute Error (MAE): 0.22556009025045948\n",
      "41/41 [==============================] - 0s 873us/step\n",
      "Mean Squared Error (MSE): 0.08233664595305873\n",
      "41/41 [==============================] - 0s 843us/step\n",
      "Root Mean Squared Error (RMSE): 0.286943628528425\n"
     ]
    }
   ],
   "source": [
    "print('Mean Absolute Error (MAE):', metrics.mean_absolute_error(y_test, model.predict(X_test, batch_size=None)))\n",
    "print('Mean Squared Error (MSE):', metrics.mean_squared_error(y_test, model.predict(X_test, batch_size=None)))\n",
    "print('Root Mean Squared Error (RMSE):', np.sqrt(metrics.mean_squared_error(y_test, model.predict(X_test, batch_size=None))))"
   ]
  },
  {
   "cell_type": "markdown",
   "id": "151c918b",
   "metadata": {},
   "source": [
    "We have three different models, we have the same errors, in conclusion we have the same errors for the same three models. With these three variables we can not come to a better explanation for the Average Rating. "
   ]
  }
 ],
 "metadata": {
  "kernelspec": {
   "display_name": "Python 3 (ipykernel)",
   "language": "python",
   "name": "python3"
  },
  "language_info": {
   "codemirror_mode": {
    "name": "ipython",
    "version": 3
   },
   "file_extension": ".py",
   "mimetype": "text/x-python",
   "name": "python",
   "nbconvert_exporter": "python",
   "pygments_lexer": "ipython3",
   "version": "3.9.7"
  }
 },
 "nbformat": 4,
 "nbformat_minor": 5
}
